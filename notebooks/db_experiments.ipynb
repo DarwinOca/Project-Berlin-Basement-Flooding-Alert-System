{
 "cells": [
  {
   "cell_type": "code",
   "execution_count": 1,
   "id": "3e0cccde",
   "metadata": {},
   "outputs": [
    {
     "name": "stdout",
     "output_type": "stream",
     "text": [
      "('✅ Connected to MySQL, test query result:', 1)\n"
     ]
    }
   ],
   "source": [
    "import sys\n",
    "import os\n",
    "import importlib\n",
    "\n",
    "sys.path.append(os.path.abspath('../src/'))\n",
    "sys.path.append(os.path.join(os.getcwd(), '..'))\n",
    "\n",
    "# import utils.model_utils as model_utils\n",
    "import pandas as pd\n",
    "import numpy as np\n",
    "\n",
    "# importlib.reload(model_utils)\n",
    "from data.make_dataset import get_engine\n",
    "\n",
    "engine, _ = get_engine()"
   ]
  },
  {
   "cell_type": "markdown",
   "id": "d2137c0b",
   "metadata": {},
   "source": [
    "# Clear predictions table\n",
    "The following table will clear and format the predictions table"
   ]
  },
  {
   "cell_type": "code",
   "execution_count": null,
   "id": "e6537fdf",
   "metadata": {},
   "outputs": [
    {
     "name": "stdout",
     "output_type": "stream",
     "text": [
      "               0\n",
      "0       gw_table\n",
      "1   precip_table\n",
      "2     pred_table\n",
      "3  stations_meta\n"
     ]
    }
   ],
   "source": [
    "from sqlalchemy.dialects.mysql import insert\n",
    "import sqlalchemy\n",
    "import mysql.connector\n",
    "from fe.constants import DB_HOST, DB_NAME, DB_PASSWORD, DB_USER, DB_PORT\n",
    "\n",
    "\n",
    "def get_db_connection():\n",
    "    \"\"\"Establishes and returns a database connection.\"\"\"\n",
    "    return mysql.connector.connect(host=DB_HOST,\n",
    "                                   user=DB_USER,\n",
    "                                   password=DB_PASSWORD,\n",
    "                                   database=DB_NAME,\n",
    "                                   port=DB_PORT)\n",
    "\n",
    "\n",
    "conn = get_db_connection()\n",
    "cursor = conn.cursor()\n",
    "# Use mlops_database and create pred_table if it doesn't exist\n",
    "# cursor.execute(\"USE mlops_database;\")\n",
    "# cursor.execute(\"DROP TABLE IF EXISTS pred_table;\")\n",
    "# cursor.execute('SELECT * FROM pred_table')\n",
    "# cursor.execute(\"\"\"\n",
    "#     CREATE TABLE IF NOT EXISTS pred_table (\n",
    "#         date DATE NOT NULL,\n",
    "#         station VARCHAR(50) NOT NULL,\n",
    "#         day INT,\n",
    "#         value FLOAT,\n",
    "#         PRIMARY KEY (date, station, day)\n",
    "#     );\n",
    "# \"\"\")\n",
    "\n",
    "cursor.execute('SHOW TABLES;')\n",
    "results = pd.DataFrame(\n",
    "    cursor.fetchall())  # Fetch all results to clear the unread result\n",
    "conn.commit()\n",
    "cursor.close()\n",
    "conn.close()\n",
    "print(results)\n"
   ]
  },
  {
   "cell_type": "code",
   "execution_count": null,
   "id": "1a08b6bc",
   "metadata": {},
   "outputs": [
    {
     "name": "stdout",
     "output_type": "stream",
     "text": [
      "Original:\n",
      "         date station  day_1  day_2  day_3\n",
      "0  2025-09-28       A     10     11     12\n",
      "1  2025-09-29       B     20     21     22\n",
      "\n",
      "Reshaped:\n",
      "         date station    day  value\n",
      "0  2025-09-28       A  day_1     10\n",
      "1  2025-09-29       B  day_1     20\n",
      "2  2025-09-28       A  day_2     11\n",
      "3  2025-09-29       B  day_2     21\n",
      "4  2025-09-28       A  day_3     12\n",
      "5  2025-09-29       B  day_3     22\n"
     ]
    }
   ],
   "source": [
    "import pandas as pd\n",
    "\n",
    "# Example dataframe\n",
    "df = pd.DataFrame({\n",
    "    \"date\": [\"2025-09-28\", \"2025-09-29\"],\n",
    "    \"station\": [\"A\", \"B\"],\n",
    "    \"day_1\": [10, 20],\n",
    "    \"day_2\": [11, 21],\n",
    "    \"day_3\": [12, 22]\n",
    "})\n",
    "\n",
    "print(\"Original:\")\n",
    "print(df)\n",
    "\n",
    "# Melt from wide to long\n",
    "df_long = df.melt(\n",
    "    id_vars=[\"date\", \"station\"],  # keep these fixed\n",
    "    value_vars=[\"day_1\", \"day_2\", \"day_3\"],  # columns to unpivot\n",
    "    var_name=\"day\",  # new column for former column names\n",
    "    value_name=\"value\"  # new column for values\n",
    ")\n",
    "\n",
    "print(\"\\nReshaped:\")\n",
    "print(df_long)\n"
   ]
  }
 ],
 "metadata": {
  "kernelspec": {
   "display_name": ".venv",
   "language": "python",
   "name": "python3"
  },
  "language_info": {
   "codemirror_mode": {
    "name": "ipython",
    "version": 3
   },
   "file_extension": ".py",
   "mimetype": "text/x-python",
   "name": "python",
   "nbconvert_exporter": "python",
   "pygments_lexer": "ipython3",
   "version": "3.11.0"
  }
 },
 "nbformat": 4,
 "nbformat_minor": 5
}
