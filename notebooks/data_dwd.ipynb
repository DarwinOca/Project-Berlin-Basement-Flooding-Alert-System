{
 "cells": [
  {
   "cell_type": "markdown",
   "id": "0",
   "metadata": {},
   "source": [
    "# DWD Data\n",
    "This notebook shows how to use the import and process RADOLAN precipitation data from DWD. "
   ]
  },
  {
   "cell_type": "markdown",
   "id": "1",
   "metadata": {},
   "source": [
    "## Data Import\n",
    "Functions from `data_loading_dwd.py` are used to download and extract the data."
   ]
  },
  {
   "cell_type": "code",
   "execution_count": null,
   "id": "2",
   "metadata": {},
   "outputs": [],
   "source": [
    "import sys\n",
    "\n",
    "sys.path.append(\"..\")\n",
    "sys.path.append('../utils')\n",
    "\n",
    "import importlib\n",
    "from src.utils import data_loading_dwd\n",
    "\n",
    "importlib.reload(data_loading_dwd)\n",
    "# importlib.reload(radolan_handler)\n",
    "\n",
    "# Usage examples:\n",
    "\n",
    "# Keep raw files (recommended for production)\n",
    "results = data_loading_dwd.import_radolan_recent('2025-05-01',\n",
    "                                                 '2025-06-30',\n",
    "                                                 '../data/dwd/',\n",
    "                                                 keep_raw=True)\n",
    "\n",
    "# Usage examples:\n",
    "# # Extract only noon files (12:50) for January 2021\n",
    "results = data_loading_dwd.import_radolan_historical('2022-01-01',\n",
    "                                                     '2022-02-28',\n",
    "                                                     '../data/dwd/',\n",
    "                                                     time_to_keep=1250,\n",
    "                                                     keep_raw=True)\n"
   ]
  },
  {
   "cell_type": "markdown",
   "id": "3",
   "metadata": {},
   "source": [
    "## Data Processing\n",
    "\n",
    "\n",
    "Functions from `data_processing_dwd.py` can be used to process the data. The goal is to combine the daily readings of a certain region of the RADOLAN grid and combine it into a time series. This time series and a coordinate array (wsg84 latitute and longitute decimal values) are then saved as a zarr file. \n",
    "\n",
    "Say we have 365 days of data wit a coordinates restricting the data to a 10x10 grid. Then we can create a tensor of shape (10,10,2) for the coordinates and a (10,10,365) tensor for the time series."
   ]
  },
  {
   "cell_type": "code",
   "execution_count": null,
   "id": "4",
   "metadata": {},
   "outputs": [],
   "source": [
    "from src.utils import data_processing_dwd\n",
    "\n",
    "importlib.reload(data_processing_dwd)\n",
    "\n",
    "# Example usage with Berlin bounds\n",
    "config = {\n",
    "    'bounds': {\n",
    "        'min_lat': 52.4,\n",
    "        'max_lat': 52.65,\n",
    "        'min_lon': 13.15,\n",
    "        'max_lon': 13.6\n",
    "    },\n",
    "    'date_range': {\n",
    "        'start_date': '2022-01-01',\n",
    "        'end_date': '2022-02-28'\n",
    "    },\n",
    "    'region_name': 'berlin',\n",
    "    'data_directory': '../data/dwd/extracted',\n",
    "    'output_directory': '../data/dwd/processed'\n",
    "}\n",
    "\n",
    "data_processing_dwd.create_radolan_timeseries(config)"
   ]
  },
  {
   "cell_type": "markdown",
   "id": "5",
   "metadata": {},
   "source": [
    "## Data Loading"
   ]
  },
  {
   "cell_type": "code",
   "execution_count": null,
   "id": "6",
   "metadata": {},
   "outputs": [],
   "source": [
    "import xarray as xr\n",
    "\n",
    "data_series_loaded = xr.open_zarr(\n",
    "    '../data/dwd/processed/radolan_berlin_2022-01-01_2022-02-28.zarr')\n",
    "data_series_loaded"
   ]
  },
  {
   "cell_type": "markdown",
   "id": "7",
   "metadata": {},
   "source": [
    "## Data Exploration\n",
    "Having created a timeseries of cropped RADOLAN data, this section serves to visualize the results and plot selected statistics of the data. "
   ]
  },
  {
   "cell_type": "code",
   "execution_count": null,
   "id": "8",
   "metadata": {},
   "outputs": [],
   "source": [
    "# import numpy as np\n",
    "cropped_data = data_series_loaded.precipitation.values[10]\n",
    "# print(data_series_loaded.time[10])\n",
    "# cropped_coords = data_series_loaded.lat.values\n",
    "# cropped_coords = np.stack([lons_2d, lats_2d], axis=-1)\n",
    "\n",
    "import matplotlib.pyplot as plt\n",
    "\n",
    "fig, ax = plt.subplots(figsize=(8, 6))\n",
    "pm = ax.pcolormesh(\n",
    "    data_series_loaded.lon.values,  # longitude\n",
    "    data_series_loaded.lat.values,  # latitude\n",
    "    cropped_data,\n",
    "    cmap=\"viridis\",\n",
    "    shading=\"auto\",\n",
    "    vmin=0)\n",
    "plt.colorbar(pm, ax=ax, label=\"mm/h\")\n",
    "ax.set_title(\"Cropped RADOLAN Data (Berlin Area)\")\n",
    "plt.xlabel(\"Longitude\")\n",
    "plt.ylabel(\"Latitude\")\n",
    "plt.show()"
   ]
  },
  {
   "cell_type": "code",
   "execution_count": null,
   "id": "9",
   "metadata": {},
   "outputs": [],
   "source": [
    "# Calculate total precipitation for each time step (sum over all grid points)\n",
    "precip_sum = data_series_loaded.precipitation.values.sum(axis=(1, 2))\n",
    "\n",
    "# Create subplots for different views\n",
    "fig, axes = plt.subplots(2, 2, figsize=(15, 10))\n",
    "\n",
    "# 1. Full time series\n",
    "axes[0, 0].plot(data_series_loaded.time.values,\n",
    "                precip_sum,\n",
    "                linewidth=1,\n",
    "                alpha=0.8)\n",
    "axes[0, 0].set_title('Full Time Series')\n",
    "axes[0, 0].set_ylabel('Total Precipitation (mm/h)')\n",
    "axes[0, 0].grid(True, alpha=0.3)\n",
    "\n",
    "# 2. Histogram of precipitation values\n",
    "axes[0, 1].hist(precip_sum, bins=50, alpha=0.7, edgecolor='black')\n",
    "axes[0, 1].set_title('Distribution of Precipitation Values')\n",
    "axes[0, 1].set_xlabel('Total Precipitation (mm/h)')\n",
    "axes[0, 1].set_ylabel('Frequency')\n",
    "\n",
    "# 3. Box plot by month (if you want monthly patterns)\n",
    "import pandas as pd\n",
    "\n",
    "df = pd.DataFrame({\n",
    "    'time': data_series_loaded.time.values,\n",
    "    'precip': precip_sum\n",
    "})\n",
    "df['month'] = pd.to_datetime(df['time']).dt.month\n",
    "df.boxplot(column='precip', by='month', ax=axes[1, 0])\n",
    "# df.plot.bar(x = 'month',y = 'precip')\n",
    "axes[1, 0].set_title('Monthly Precipitation Distribution')\n",
    "axes[1, 0].set_xlabel('Month')\n",
    "\n",
    "# 4. Recent data (last 100 points)\n",
    "axes[1, 1].plot(data_series_loaded.time.values[-100:],\n",
    "                precip_sum[-100:],\n",
    "                'o-',\n",
    "                linewidth=1,\n",
    "                markersize=3)\n",
    "axes[1, 1].set_title('Recent Precipitation (Last 100 Points)')\n",
    "axes[1, 1].set_ylabel('Total Precipitation (mm/h)')\n",
    "axes[1, 1].tick_params(axis='x', rotation=45)\n",
    "\n",
    "axes[1, 0].set_title(\n",
    "    'Monthly Precipitation Distribution')  # This sets your custom title\n",
    "plt.suptitle('')\n",
    "plt.tight_layout()\n",
    "plt.show()"
   ]
  }
 ],
 "metadata": {
  "kernelspec": {
   "display_name": "Python 3 (ipykernel)",
   "language": "python",
   "name": "python3"
  },
  "language_info": {
   "codemirror_mode": {
    "name": "ipython",
    "version": 3
   },
   "file_extension": ".py",
   "mimetype": "text/x-python",
   "name": "python",
   "nbconvert_exporter": "python",
   "pygments_lexer": "ipython3",
   "version": "3.11.13"
  }
 },
 "nbformat": 4,
 "nbformat_minor": 5
}
